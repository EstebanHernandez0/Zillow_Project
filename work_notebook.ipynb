{
 "cells": [
  {
   "cell_type": "code",
   "execution_count": 1,
   "id": "9122eb5d",
   "metadata": {},
   "outputs": [],
   "source": [
    "from env import get_connection\n",
    "import pandas as pd\n",
    "import numpy as np\n",
    "import matplotlib.pyplot as plt\n",
    "import acquire\n",
    "import prepare\n",
    "\n",
    "import seaborn as sns\n",
    "from math import sqrt\n",
    "from scipy import stats\n",
    "from scipy.stats import pearsonr, spearmanr\n",
    "import wrangle as w\n",
    "\n",
    "# ignore warnings\n",
    "import warnings\n",
    "warnings.filterwarnings(\"ignore\")\n",
    "\n",
    "from sklearn.preprocessing import MinMaxScaler \n",
    "from sklearn.preprocessing import StandardScaler\n",
    "from sklearn.preprocessing import RobustScaler\n",
    "from sklearn.preprocessing import QuantileTransformer as qt\n",
    "from sklearn.linear_model import LinearRegression\n",
    "from sklearn.feature_selection import RFE\n",
    "from sklearn.feature_selection import SelectKBest, f_regression\n",
    "from sklearn.metrics import mean_squared_error, r2_score, explained_variance_score"
   ]
  },
  {
   "cell_type": "markdown",
   "id": "354b87fa",
   "metadata": {},
   "source": [
    "# Acquire"
   ]
  },
  {
   "cell_type": "code",
   "execution_count": 2,
   "id": "912298db",
   "metadata": {},
   "outputs": [],
   "source": [
    "# Here I used my wrangle function to acquire, prepare, and split my data\n",
    "df= acquire.get_zillow()"
   ]
  },
  {
   "cell_type": "markdown",
   "id": "a987cd66",
   "metadata": {},
   "source": [
    "# Prepare"
   ]
  },
  {
   "cell_type": "code",
   "execution_count": 3,
   "id": "769eed54",
   "metadata": {},
   "outputs": [
    {
     "name": "stdout",
     "output_type": "stream",
     "text": [
      "(1198531, 8)\n",
      "(513657, 8)\n",
      "(428047, 8)\n"
     ]
    }
   ],
   "source": [
    "train, val, test= prepare.prep_zillow(df)   \n"
   ]
  },
  {
   "cell_type": "markdown",
   "id": "a3fd3269",
   "metadata": {},
   "source": [
    "# Explore "
   ]
  },
  {
   "cell_type": "code",
   "execution_count": 3,
   "id": "7efa6f28",
   "metadata": {},
   "outputs": [
    {
     "data": {
      "text/html": [
       "<div>\n",
       "<style scoped>\n",
       "    .dataframe tbody tr th:only-of-type {\n",
       "        vertical-align: middle;\n",
       "    }\n",
       "\n",
       "    .dataframe tbody tr th {\n",
       "        vertical-align: top;\n",
       "    }\n",
       "\n",
       "    .dataframe thead th {\n",
       "        text-align: right;\n",
       "    }\n",
       "</style>\n",
       "<table border=\"1\" class=\"dataframe\">\n",
       "  <thead>\n",
       "    <tr style=\"text-align: right;\">\n",
       "      <th></th>\n",
       "      <th>Unnamed: 0</th>\n",
       "      <th>year_built</th>\n",
       "      <th>property_value</th>\n",
       "      <th>tax_amount</th>\n",
       "      <th>bedrooms</th>\n",
       "      <th>bathrooms</th>\n",
       "      <th>sqr_feet</th>\n",
       "      <th>fips</th>\n",
       "    </tr>\n",
       "  </thead>\n",
       "  <tbody>\n",
       "    <tr>\n",
       "      <th>1567873</th>\n",
       "      <td>1567873</td>\n",
       "      <td>1950.0</td>\n",
       "      <td>191578.0</td>\n",
       "      <td>2712.21</td>\n",
       "      <td>3.0</td>\n",
       "      <td>1.0</td>\n",
       "      <td>1248.0</td>\n",
       "      <td>6037.0</td>\n",
       "    </tr>\n",
       "    <tr>\n",
       "      <th>1218138</th>\n",
       "      <td>1218138</td>\n",
       "      <td>1950.0</td>\n",
       "      <td>1345206.0</td>\n",
       "      <td>16539.04</td>\n",
       "      <td>2.0</td>\n",
       "      <td>2.0</td>\n",
       "      <td>1326.0</td>\n",
       "      <td>6037.0</td>\n",
       "    </tr>\n",
       "    <tr>\n",
       "      <th>339661</th>\n",
       "      <td>339661</td>\n",
       "      <td>1953.0</td>\n",
       "      <td>356648.0</td>\n",
       "      <td>4575.16</td>\n",
       "      <td>2.0</td>\n",
       "      <td>1.0</td>\n",
       "      <td>1053.0</td>\n",
       "      <td>6037.0</td>\n",
       "    </tr>\n",
       "    <tr>\n",
       "      <th>1017133</th>\n",
       "      <td>1017133</td>\n",
       "      <td>1946.0</td>\n",
       "      <td>175069.0</td>\n",
       "      <td>2635.51</td>\n",
       "      <td>3.0</td>\n",
       "      <td>2.0</td>\n",
       "      <td>1256.0</td>\n",
       "      <td>6037.0</td>\n",
       "    </tr>\n",
       "    <tr>\n",
       "      <th>40250</th>\n",
       "      <td>40250</td>\n",
       "      <td>1957.0</td>\n",
       "      <td>543000.0</td>\n",
       "      <td>6344.96</td>\n",
       "      <td>3.0</td>\n",
       "      <td>2.0</td>\n",
       "      <td>1640.0</td>\n",
       "      <td>6059.0</td>\n",
       "    </tr>\n",
       "  </tbody>\n",
       "</table>\n",
       "</div>"
      ],
      "text/plain": [
       "         Unnamed: 0  year_built  property_value  tax_amount  bedrooms  \\\n",
       "1567873     1567873      1950.0        191578.0     2712.21       3.0   \n",
       "1218138     1218138      1950.0       1345206.0    16539.04       2.0   \n",
       "339661       339661      1953.0        356648.0     4575.16       2.0   \n",
       "1017133     1017133      1946.0        175069.0     2635.51       3.0   \n",
       "40250         40250      1957.0        543000.0     6344.96       3.0   \n",
       "\n",
       "         bathrooms  sqr_feet    fips  \n",
       "1567873        1.0    1248.0  6037.0  \n",
       "1218138        2.0    1326.0  6037.0  \n",
       "339661         1.0    1053.0  6037.0  \n",
       "1017133        2.0    1256.0  6037.0  \n",
       "40250          2.0    1640.0  6059.0  "
      ]
     },
     "execution_count": 3,
     "metadata": {},
     "output_type": "execute_result"
    }
   ],
   "source": [
    "train.head()"
   ]
  },
  {
   "cell_type": "code",
   "execution_count": 14,
   "id": "c5b71a4d",
   "metadata": {},
   "outputs": [],
   "source": []
  },
  {
   "cell_type": "code",
   "execution_count": null,
   "id": "aad99805",
   "metadata": {},
   "outputs": [],
   "source": []
  },
  {
   "cell_type": "code",
   "execution_count": null,
   "id": "8beb0b5c",
   "metadata": {},
   "outputs": [],
   "source": []
  }
 ],
 "metadata": {
  "kernelspec": {
   "display_name": "Python 3 (ipykernel)",
   "language": "python",
   "name": "python3"
  },
  "language_info": {
   "codemirror_mode": {
    "name": "ipython",
    "version": 3
   },
   "file_extension": ".py",
   "mimetype": "text/x-python",
   "name": "python",
   "nbconvert_exporter": "python",
   "pygments_lexer": "ipython3",
   "version": "3.9.13"
  }
 },
 "nbformat": 4,
 "nbformat_minor": 5
}
